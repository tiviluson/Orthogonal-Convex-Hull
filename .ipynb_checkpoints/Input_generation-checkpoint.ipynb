{
 "cells": [
  {
   "cell_type": "code",
   "execution_count": 1,
   "metadata": {},
   "outputs": [],
   "source": [
    "import csv\n",
    "import math\n",
    "import matplotlib.pyplot as plt\n",
    "import random\n",
    "import convexOQHNew\n",
    "#from test_mainoquickhull import *\n",
    "from pathlib import Path"
   ]
  },
  {
   "cell_type": "code",
   "execution_count": 2,
   "metadata": {},
   "outputs": [],
   "source": [
    "def file_generator(number_of_files=20):\n",
    "    #number_of_files = int(input(\"Enter number of files: \"))\n",
    "    data_folder = Path(\"Input/\")\n",
    "    for i in range(number_of_files):\n",
    "        file_name = data_folder / (str(i) + \".csv\")\n",
    "        number_of_points = random.randint(80, 100)\n",
    "        with open(file_name, mode=\"w\") as file:\n",
    "            for i in range(number_of_points):\n",
    "                point = (random.uniform(0, 100), random.uniform(0, 100))\n",
    "                file.write(str(point[0]) + \", \" + str(point[1]) + \"\\n\")\n",
    "            #print(\"Finish\")\n",
    "            file.close()"
   ]
  },
  {
   "cell_type": "code",
   "execution_count": 3,
   "metadata": {},
   "outputs": [],
   "source": [
    "def points_supplement(points):\n",
    "    S = []\n",
    "    for i in range(0, len(points) - 1):\n",
    "        if points[i+1][0] > points[i][0] and points[i+1][1] > points[i][1]:\n",
    "            p3 = (points[i][0], points[i+1][1])\n",
    "            S.append([i+1, p3])\n",
    "        elif points[i+1][0] > points[i][0] and points[i+1][1] < points[i][1]:\n",
    "            p3 = (points[i+1][0], points[i][1])\n",
    "            S.append([i+1, p3])\n",
    "        elif points[i+1][0] < points[i][0] and points[i+1][1] < points[i][1]:\n",
    "            p3 = (points[i][0], points[i+1]\n",
    "                  [1])\n",
    "            S.append([i+1, p3])\n",
    "        elif points[i+1][0] < points[i][0] and points[i+1][1] > points[i][1]:\n",
    "            p3 = (points[i+1][0], points[i][1])\n",
    "            S.append([i+1, p3])\n",
    "    return S"
   ]
  },
  {
   "cell_type": "code",
   "execution_count": 4,
   "metadata": {},
   "outputs": [],
   "source": [
    "def graph(processed_points, input_points, scale=1):\n",
    "    ax = plt.subplot()\n",
    "\n",
    "    # Input points in blue\n",
    "    ax.plot([x[0] for x in input_points], [x[1] for x in input_points], 'y.')\n",
    "    ax.plot([x[0] for x in processed_points], [x[1] for x in processed_points], 'r.')\n",
    "\n",
    "    # Orthogonal convex hull points in red\n",
    "    ax.plot([x[0] for x in processed_points], [x[1] for x in processed_points], 'b-')\n",
    "\n",
    "    plt.ylabel('Y')\n",
    "    plt.xlabel('X')\n",
    "    ax.set_aspect(scale)\n",
    "    #return plt"
   ]
  },
  {
   "cell_type": "code",
   "execution_count": 5,
   "metadata": {},
   "outputs": [],
   "source": [
    "def orthogonalize(number_of_files=20):\n",
    "    input_folder = Path(\"Input/\")\n",
    "    output_folder = Path(\"Output/\")\n",
    "    for i in range(number_of_files):\n",
    "        input_file_name = input_folder / (str(i) + \".csv\")\n",
    "        output_file_name = output_folder / (str(i) + \".csv\")\n",
    "        output_graph_name = output_folder / (str(i) + \".png\")\n",
    "        input_points = []\n",
    "        with open(input_file_name, \"r\") as input_file:\n",
    "            csv_reader = csv.reader(input_file, delimiter=\",\")\n",
    "            for row in csv_reader:\n",
    "                #input_points.append[[float(row[0]), float(row[1])]]\n",
    "                input_points.append([float(row[0]), float(row[1])])\n",
    "            input_file.close()\n",
    "\n",
    "        processed_points = convexOQHNew.findOrthogonalConvexHull(input_points)\n",
    "        processed_points.append(processed_points[0])\n",
    "        S = points_supplement(processed_points)\n",
    "        for i in range(len(S)):\n",
    "            processed_points.insert(S[i][0]+i, S[i][1])\n",
    "        #processed_points.append(processed_points[0])\n",
    "\n",
    "        with open(output_file_name, \"w\") as output_file:\n",
    "            for point in processed_points:\n",
    "                output_file.write(str(point[0]) + \", \" + str(point[1]) + \"\\n\")\n",
    "            output_file.close()\n",
    "\n",
    "        plt = graph(processed_points, input_points)\n",
    "        plt.savefig(output_graph_name)\n",
    "        plt.close()"
   ]
  },
  {
   "cell_type": "code",
   "execution_count": 6,
   "metadata": {},
   "outputs": [],
   "source": [
    "def calculate_y(x):\n",
    "    #return random.gauss(1, 0.5)*x + random.gauss(0,10)\n",
    "    return random.gauss(0,50)"
   ]
  },
  {
   "cell_type": "code",
   "execution_count": 7,
   "metadata": {},
   "outputs": [],
   "source": [
    "def redundancy_omission(lst):\n",
    "    result = []\n",
    "    result.append(lst[0])\n",
    "    for i in range(1, len(lst)):\n",
    "        if not lst[i] == lst[i-1]: \n",
    "            result.append(lst[i])\n",
    "    return result"
   ]
  },
  {
   "cell_type": "code",
   "execution_count": null,
   "metadata": {},
   "outputs": [],
   "source": []
  },
  {
   "cell_type": "code",
   "execution_count": 26,
   "metadata": {},
   "outputs": [],
   "source": [
    "def dfs(u):\n",
    "    global time, low, num, saveVertexesList, deleteVertexesList, dfsStack, adjacentMatrix, ans\n",
    "    time += 1\n",
    "    low[u] = time\n",
    "    num[u] = time\n",
    "    dfsStack.append(u)\n",
    "    for v in adjacentMatrix[u]:\n",
    "        if (num[v] == 0): #not visited\n",
    "            dfs(v)\n",
    "            low[u] = min(low[u],low[v])\n",
    "        else:\n",
    "            low[u] = min(low[u],num[v])\n",
    "    if (low[u] == num[u]):\n",
    "        saveVertexesList.clear()\n",
    "        v = dfsStack.pop()\n",
    "        while (v != u):\n",
    "            saveVertexesList.append(v)\n",
    "            v = dfsStack.pop()\n",
    "        saveVertexesList.append(u)\n",
    "        if (len(saveVertexesList) > 1):\n",
    "            ans = saveVertexesList.copy()\n",
    "        else:\n",
    "            deleteVertexesList.append(saveVertexesList.pop())\n",
    "\n",
    "def tarjan(graph):\n",
    "    global time, low, num, saveVertexesList, deleteVertexesList, dfsStack, adjacentMatrix, ans\n",
    "\n",
    "    modifiedGraph = list()\n",
    "    for i in range(len(graph)-1):\n",
    "        (x1, y1) = graph[i]\n",
    "        (x2, y2) = graph[i+1]\n",
    "        modifiedGraph.append((x1, y1))\n",
    "        if (x1 == x2):\n",
    "            for j in range(len(graph)):\n",
    "                if (x1 == graph[j][0]):\n",
    "                    if (y1 < graph[j][1] < y2) or (y2 < graph[j][1] < y1):\n",
    "                        modifiedGraph.append((x1, graph[j][1]))\n",
    "        if (y1 == y2):\n",
    "            for j in range(len(graph)):\n",
    "                if (y1 == graph[j][1]):\n",
    "                    if (x1 < graph[j][0] < x2) or (x2 < graph[j][0] < x1):\n",
    "                        modifiedGraph.append((graph[j][0], y1))\n",
    "        modifiedGraph.append((x2, y2))\n",
    "\n",
    "    vertexIndex = {modifiedGraph[0]:0} # dict to index vertexes\n",
    "    reversedVertexIndexToPoint = [modifiedGraph[0]]\n",
    "    for i in range(1,len(modifiedGraph)):\n",
    "        if not (modifiedGraph[i] in vertexIndex.keys()):\n",
    "            vertexIndex[modifiedGraph[i]] = len(vertexIndex)\n",
    "            reversedVertexIndexToPoint.append(modifiedGraph[i])\n",
    "\n",
    "    edgeSet = set()\n",
    "    adjacentMatrix = [list() for i in range(len(vertexIndex))]\n",
    "    for i in range(len(modifiedGraph)):\n",
    "        (u, v) = (vertexIndex[modifiedGraph[i]], vertexIndex[modifiedGraph[(i+1)%len(modifiedGraph)]])\n",
    "        if not ((u, v) in edgeSet):\n",
    "            adjacentMatrix[u].append(v)\n",
    "            edgeSet.add((v, u))\n",
    "\n",
    "    num = [0] * len(vertexIndex)\n",
    "    low = [len(vertexIndex)+1] * len(vertexIndex)\n",
    "    dfsStack = []\n",
    "    saveVertexesList = []\n",
    "    deleteVertexesList = []\n",
    "    time = 0\n",
    "    dfs(0)\n",
    "    listSavePoint = [reversedVertexIndexToPoint[i] for i in ans]\n",
    "    listSavePoint.append(listSavePoint[0])\n",
    "    listDeletePoint = [reversedVertexIndexToPoint[i] for i in deleteVertexesList]\n",
    "    return (listSavePoint, listDeletePoint)"
   ]
  },
  {
   "cell_type": "code",
   "execution_count": 65,
   "metadata": {},
   "outputs": [
    {
     "data": {
      "image/png": "[encoded data removed]",
      "text/plain": [
       "<Figure size 432x288 with 1 Axes>"
      ]
     },
     "metadata": {
      "needs_background": "light"
     },
     "output_type": "display_data"
    },
    {
     "data": {
      "image/png": "[encoded data removed]",
      "text/plain": [
       "<Figure size 432x288 with 1 Axes>"
      ]
     },
     "metadata": {
      "needs_background": "light"
     },
     "output_type": "display_data"
    }
   ],
   "source": [
    "input_points = []\n",
    "for _ in range(100):\n",
    "    x = random.uniform(0, 1080)\n",
    "    y = calculate_y(x)\n",
    "    point = (int(x), int(y))\n",
    "    input_points.append(point)\n",
    "processed_points = convexOQHNew.findOrthogonalConvexHull(input_points)\n",
    "processed_points.append(processed_points[0])\n",
    "S = points_supplement(processed_points)    \n",
    "for i in range(len(S)):\n",
    "    processed_points.insert(S[i][0]+i, S[i][1])\n",
    "processed_points = redundancy_omission(processed_points)\n",
    "# for point in processed_points:\n",
    "#     print(point)\n",
    "graph(processed_points, input_points, 1)\n",
    "plt.show()\n",
    "plt.clf()\n",
    "processed_points, deleted_points = tarjan(processed_points)\n",
    "for point in deleted_points:\n",
    "    input_points.remove(point)\n",
    "graph(processed_points, input_points, 1)\n",
    "plt.show()"
   ]
  },
  {
   "cell_type": "code",
   "execution_count": 60,
   "metadata": {},
   "outputs": [
    {
     "name": "stdout",
     "output_type": "stream",
     "text": [
      "(841, 140)\n",
      "(841, 103)\n",
      "(856, 103)\n",
      "(856, 76)\n",
      "(967, 76)\n",
      "(967, 66)\n",
      "(1034, 66)\n",
      "(1034, 17)\n",
      "(1060, 17)\n",
      "(1060, -80)\n",
      "(857, -80)\n",
      "(857, -97)\n",
      "(372, -97)\n",
      "(372, -49)\n",
      "(337, -49)\n",
      "(337, -48)\n",
      "(217, -48)\n",
      "(217, -43)\n",
      "(23, -43)\n",
      "(23, -29)\n",
      "(15, -29)\n",
      "(15, 38)\n",
      "(19, 38)\n",
      "(19, 79)\n",
      "(308, 79)\n",
      "(308, 80)\n",
      "(484, 80)\n",
      "(484, 126)\n",
      "(561, 126)\n",
      "(561, 127)\n",
      "(650, 127)\n",
      "(841, 140)\n"
     ]
    }
   ],
   "source": [
    "for point in processed_points:\n",
    "    print(point)"
   ]
  },
  {
   "cell_type": "code",
   "execution_count": 69,
   "metadata": {},
   "outputs": [],
   "source": [
    "def concave_points_supplement(points, inner_points, number_of_concavities):\n",
    "    start = points.pop()\n",
    "    for _ in range(number_of_concavities):\n",
    "        ind_u = random.choice(range(len(points)))\n",
    "        ind_v = (ind_u + 1) % len(points)\n",
    "        u = points[ind_u]\n",
    "        v = points[ind_v]\n",
    "        if u[0] == v[0]:\n",
    "            mid = (u[0], int(random.uniform(min(u[1],v[1]), max(u[1],v[1]))))\n",
    "            characteristic = \"vertical\"\n",
    "#             if u[0] < 1080/2:\n",
    "#                 characteristic += \" rightward\"\n",
    "#             else:\n",
    "#                 characteristic += \" leftward\"\n",
    "        else:\n",
    "            mid = (int(random.uniform(min(u[0],v[0]), max(u[0],v[0]))), u[1])\n",
    "            characteristic = \"horizontal\"\n",
    "        points.insert(ind_v, mid)\n",
    "#             if u[1] < 0:\n",
    "#                 characteristic += \" upward\"\n",
    "#             else:\n",
    "#                 characteristic += \" downward\"\n",
    "        #print(u, v, mid, characteristic)\n",
    "    \n",
    "    dist = []\n",
    "    for i in range(len(inner_points)):\n",
    "        distance = ((inner_points[i][0] - mid[0])**2 + (inner_points[i][1] - mid[1])**2)**(1/2)\n",
    "        dist.append((distance, i))\n",
    "    \n",
    "    dist.sort(key= lambda distance: distance[0])\n",
    "    diagon = \n",
    "    if characteristic == \"vertical\":\n",
    "        points.insert((ind_v + 1) % len(points), ()\n",
    "    \n",
    "    \n",
    "    \n",
    "    points.append(points[0])\n",
    "    \n",
    "    ax = plt.subplot()\n",
    "    # Input points in blue\n",
    "    ax.plot([x[0] for x in input_points], [x[1] for x in input_points], 'y.')\n",
    "    ax.plot([mid[0]], [mid[1]], 'r.')\n",
    "\n",
    "    # Orthogonal convex hull points in red\n",
    "    ax.plot([x[0] for x in points], [x[1] for x in processed_points], 'b-')\n",
    "\n",
    "    plt.ylabel('Y')\n",
    "    plt.xlabel('X')\n",
    "    ax.set_aspect(1)\n",
    "        \n",
    "    plt.show()\n",
    "    \n",
    "# Not able to generate shroom concavities'''"
   ]
  },
  {
   "cell_type": "code",
   "execution_count": 70,
   "metadata": {},
   "outputs": [
    {
     "data": {
      "image/png": "[encoded data removed]",
      "text/plain": [
       "<Figure size 432x288 with 1 Axes>"
      ]
     },
     "metadata": {
      "needs_background": "light"
     },
     "output_type": "display_data"
    }
   ],
   "source": [
    "inner_points = []\n",
    "for point in input_points:\n",
    "    if point not in processed_points:\n",
    "        inner_points.append(point)\n",
    "concave_points_supplement(processed_points, inner_points, 10)"
   ]
  },
  {
   "cell_type": "code",
   "execution_count": 14,
   "metadata": {},
   "outputs": [],
   "source": [
    "def generatePolygon( ctrX, ctrY, aveRadius, irregularity, spikeyness, numVerts ) :\n",
    "    '''Start with the centre of the polygon at ctrX, ctrY, \n",
    "    then creates the polygon by sampling points on a circle around the centre. \n",
    "    Randon noise is added by varying the angular spacing between sequential points,\n",
    "    and by varying the radial distance of each point from the centre.\n",
    "\n",
    "    Params:\n",
    "    ctrX, ctrY - coordinates of the \"centre\" of the polygon\n",
    "    aveRadius - in px, the average radius of this polygon, this roughly controls how large the polygon is, really only useful for order of magnitude.\n",
    "    irregularity - [0,1] indicating how much variance there is in the angular spacing of vertices. [0,1] will map to [0, 2pi/numberOfVerts]\n",
    "    spikeyness - [0,1] indicating how much variance there is in each vertex from the circle of radius aveRadius. [0,1] will map to [0, aveRadius]\n",
    "    numVerts - self-explanatory\n",
    "\n",
    "    Returns a list of vertices, in CCW order.\n",
    "    '''\n",
    "\n",
    "    irregularity = clip( irregularity, 0,1 ) * 2*math.pi / numVerts\n",
    "    spikeyness = clip( spikeyness, 0,1 ) * aveRadius\n",
    "\n",
    "    # generate n angle steps\n",
    "    angleSteps = []\n",
    "    lower = (2*math.pi / numVerts) - irregularity\n",
    "    upper = (2*math.pi / numVerts) + irregularity\n",
    "    sum = 0\n",
    "    for i in range(numVerts) :\n",
    "        tmp = random.uniform(lower, upper)\n",
    "        angleSteps.append( tmp )\n",
    "        sum = sum + tmp\n",
    "\n",
    "    # normalize the steps so that point 0 and point n+1 are the same\n",
    "    k = sum / (2*math.pi)\n",
    "    for i in range(numVerts) :\n",
    "        angleSteps[i] = angleSteps[i] / k\n",
    "\n",
    "    # now generate the points\n",
    "    points = []\n",
    "    angle = random.uniform(0, 2*math.pi)\n",
    "    for i in range(numVerts) :\n",
    "        r_i = clip( random.gauss(aveRadius, spikeyness), 0, 2*aveRadius )\n",
    "        x = ctrX + r_i*math.cos(angle)\n",
    "        y = ctrY + r_i*math.sin(angle)\n",
    "        points.append( (int(x),int(y)) )\n",
    "\n",
    "        angle = angle + angleSteps[i]\n",
    "\n",
    "    return points\n",
    "\n",
    "def clip(x, min, max):\n",
    "    if min > max:      return x    \n",
    "    elif( x < min ) :  return min\n",
    "    elif( x > max ) :  return max\n",
    "    else :             return x"
   ]
  },
  {
   "cell_type": "code",
   "execution_count": 16,
   "metadata": {},
   "outputs": [
    {
     "data": {
      "image/png": "[encoded data removed]",
      "text/plain": [
       "<Figure size 432x288 with 1 Axes>"
      ]
     },
     "metadata": {
      "needs_background": "light"
     },
     "output_type": "display_data"
    },
    {
     "data": {
      "image/png": "[encoded data removed]",
      "text/plain": [
       "<Figure size 432x288 with 1 Axes>"
      ]
     },
     "metadata": {
      "needs_background": "light"
     },
     "output_type": "display_data"
    }
   ],
   "source": [
    "input_points = []\n",
    "input_image = []\n",
    "for _ in range(1080):\n",
    "    tmp_lst = []\n",
    "    for _ in range(720):\n",
    "        tmp_lst.append(random.choices([0, 1], weights=[999,1])[0])\n",
    "    input_image.append(tmp_lst)\n",
    "# for row in input_image:\n",
    "#     print(row)\n",
    "    \n",
    "for i in range(1080):\n",
    "    for j in range(720):\n",
    "        if input_image[i][j] == 1:\n",
    "            input_points.append((i,j))\n",
    "processed_points = convexOQHNew.findOrthogonalConvexHull(input_points)\n",
    "processed_points.append(processed_points[0])\n",
    "S = points_supplement(processed_points)    \n",
    "for i in range(len(S)):\n",
    "    processed_points.insert(S[i][0]+i, S[i][1])\n",
    "processed_points = redundancy_omission(processed_points)\n",
    "# for point in processed_points:\n",
    "#     print(point)\n",
    "graph(processed_points, input_points, 1)\n",
    "plt.show()\n",
    "plt.clf()\n",
    "processed_points = tarjan(processed_points)\n",
    "graph(processed_points, input_points, 1)\n",
    "plt.show()"
   ]
  }
 ],
 "metadata": {
  "kernelspec": {
   "display_name": "Python 3",
   "language": "python",
   "name": "python3"
  },
  "language_info": {
   "codemirror_mode": {
    "name": "ipython",
    "version": 3
   },
   "file_extension": ".py",
   "mimetype": "text/x-python",
   "name": "python",
   "nbconvert_exporter": "python",
   "pygments_lexer": "ipython3",
   "version": "3.8.8"
  }
 },
 "nbformat": 4,
 "nbformat_minor": 4
}
