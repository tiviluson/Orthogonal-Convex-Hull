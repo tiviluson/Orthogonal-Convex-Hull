{
 "metadata": {
  "language_info": {
   "codemirror_mode": {
    "name": "ipython",
    "version": 3
   },
   "file_extension": ".py",
   "mimetype": "text/x-python",
   "name": "python",
   "nbconvert_exporter": "python",
   "pygments_lexer": "ipython3",
   "version": "3.8.3-final"
  },
  "orig_nbformat": 2,
  "kernelspec": {
   "name": "python3",
   "display_name": "Python 3",
   "language": "python"
  }
 },
 "nbformat": 4,
 "nbformat_minor": 2,
 "cells": [
  {
   "cell_type": "code",
   "execution_count": 87,
   "metadata": {},
   "outputs": [],
   "source": [
    "import csv\n",
    "from math import *\n",
    "import numpy as np\n",
    "from matplotlib import pyplot as plt\n",
    "from input_generation import *"
   ]
  },
  {
   "cell_type": "code",
   "execution_count": 88,
   "metadata": {},
   "outputs": [],
   "source": [
    "VERBOSE = False"
   ]
  },
  {
   "cell_type": "code",
   "execution_count": 89,
   "metadata": {},
   "outputs": [],
   "source": [
    "IDENTICAL = -1\n",
    "VERTICAL = 0\n",
    "HORIZONTAL = 1\n",
    "OBLIQUE = 2\n",
    "T_l = 30 #tri nguong~ dung de chia khoang (T_l trong crack report)\n",
    "# CSV_NAME = \"./Horizontal/10.csv\"\n",
    "CSV_NAME = \"./Horizontal/7.csv\""
   ]
  },
  {
   "cell_type": "code",
   "execution_count": 90,
   "metadata": {},
   "outputs": [],
   "source": [
    "def parse_csv(FILE):\n",
    "    point_list = []\n",
    "    with open(FILE) as csv_file:\n",
    "        csv_reader = csv.reader(csv_file, delimiter=',')\n",
    "        length = -1\n",
    "        for row in csv_reader:\n",
    "            if length == -1:\n",
    "                length += 1\n",
    "            else:\n",
    "                point_list.append((float(row[0]), float(row[1])))\n",
    "                length += 1\n",
    "    return point_list"
   ]
  },
  {
   "cell_type": "code",
   "execution_count": 91,
   "metadata": {},
   "outputs": [],
   "source": [
    " def in_range(value, range):\n",
    "    if range[0] <= value and value <= range[1]:\n",
    "        return True\n",
    "    if range[1] <= value and value <= range[0]:\n",
    "        return True\n",
    "    return False"
   ]
  },
  {
   "cell_type": "code",
   "execution_count": 92,
   "metadata": {},
   "outputs": [],
   "source": [
    "def group_to_pairs(x_coordinates, y_coordinates, length):\n",
    "        def relative_position(A, B):\n",
    "            if A[0] != B[0] and A[1] != B[1]:\n",
    "                return OBLIQUE\n",
    "            elif A[0] == B[0] and A[1] != B[1]:\n",
    "                return VERTICAL\n",
    "            elif A[0] != B[0] and A[1] == B[1]:\n",
    "                return HORIZONTAL\n",
    "            else:\n",
    "                return IDENTICAL\n",
    "        all_pairs_position = {\n",
    "            \"VERTICAL\": {},\n",
    "            \"HORIZONTAL\": {}\n",
    "        }\n",
    "        for i in range(0, length - 1):\n",
    "            position = relative_position(\n",
    "                (x_coordinates[i], y_coordinates[i]), (x_coordinates[i+1], y_coordinates[i+1]))\n",
    "            if position == IDENTICAL or position == OBLIQUE:\n",
    "                continue\n",
    "            if position == VERTICAL:\n",
    "                previous_value = all_pairs_position.get('VERTICAL').get(x_coordinates[i])\n",
    "                update_value = [(y_coordinates[i], y_coordinates[i+1])]\n",
    "                if previous_value != None:\n",
    "                    update_value = previous_value + update_value\n",
    "                all_pairs_position['VERTICAL'][x_coordinates[i]] = update_value\n",
    "            if position == HORIZONTAL:\n",
    "                previous_value = all_pairs_position.get('HORIZONTAL').get(y_coordinates[i])\n",
    "                update_value = [(x_coordinates[i], x_coordinates[i+1])]\n",
    "                if previous_value != None:\n",
    "                    update_value = previous_value + update_value\n",
    "                all_pairs_position['HORIZONTAL'][y_coordinates[i]] = update_value\n",
    "        return all_pairs_position"
   ]
  },
  {
   "cell_type": "code",
   "execution_count": 93,
   "metadata": {},
   "outputs": [],
   "source": [
    "#Grouping points\n",
    "point_list = parse_csv(CSV_NAME)\n",
    "#print(point_list)\n",
    "# Testcase\n",
    "# print(isCollide(point_list, (12.4, 13), (12.4, 13.7)))\n",
    "# print('------------------')\n",
    "# print(isCollide(point_list, (17, 3.5), (18, 3.5)))\n",
    "# print('------------------')"
   ]
  },
  {
   "source": [
    "def find_endpoint(x_value, all_pairs_position):\n",
    "    endpoint = {'y':{},'x':{}}\n",
    "    for point, ran in all_pairs_position['HORIZONTAL'].items():\n",
    "        for sub_ran in ran:\n",
    "            if in_range(x_value, sub_ran):\n",
    "                endpoint['y'][point] = sub_ran\n",
    "    for point, ran in all_pairs_position['VERTICAL'].items():\n",
    "        if x_value == point:\n",
    "            endpoint['x'][point] = ran\n",
    "    return endpoint"
   ],
   "cell_type": "code",
   "metadata": {},
   "execution_count": 94,
   "outputs": []
  },
  {
   "cell_type": "code",
   "execution_count": 95,
   "metadata": {},
   "outputs": [],
   "source": [
    "def distance(A, B):\n",
    "    return sqrt((A[0] - B[0])**2 + (A[1] - B[1])**2)"
   ]
  },
  {
   "cell_type": "code",
   "execution_count": 96,
   "metadata": {},
   "outputs": [],
   "source": [
    "def findLine(Origin, Angle):\n",
    "    if Angle == 90:\n",
    "        print(\"Invalid. Angle is 90!\")\n",
    "        return ('None', 'None')\n",
    "    #find slope\n",
    "    a = tan(radians(Angle))\n",
    "    # Line y = a*x + b\n",
    "    b = (Origin[1] - a*Origin[0])\n",
    "    return (a,b)"
   ]
  },
  {
   "source": [
    "%%timeit -n 20\n",
    "x_coordinates = []\n",
    "y_coordinates = []\n",
    "length_list = len(point_list)\n",
    "\n",
    "\n",
    "for i in range(0, length_list):\n",
    "    x_coordinates.append(point_list[i][0])\n",
    "    y_coordinates.append(point_list[i][1])\n",
    "all_pairs_position = group_to_pairs(x_coordinates, y_coordinates, length_list)\n",
    "\n",
    "\n",
    "x_list = list(round(i,1) for i in np.arange(0.1, floor(max(x_coordinates))+0.1, T_l))\n",
    "if x_list[-1] != max(x_coordinates) - 0.1:\n",
    "    x_list.append(max(x_coordinates) - 0.1)\n",
    "\n",
    "\n",
    "np_point_list = np.array(point_list)\n",
    "mid_point_list = np.array([])\n",
    "x_ignore_list = []\n",
    "for x_index in x_list:\n",
    "    endpoint = find_endpoint(x_list[x_list.index(x_index)],all_pairs_position)\n",
    "    if len(endpoint['y']) == 2:\n",
    "        if VERBOSE:\n",
    "            print(\"Accept: {}\".format(x_index))\n",
    "        mid_point_list = np.append(mid_point_list, (x_index,sum(endpoint['y'].keys())/2))\n",
    "        #print(\"{}\\n=====\".format(endpoint))\n",
    "    else:\n",
    "        if VERBOSE:\n",
    "            print(\"Ignore: {}\".format(x_index))\n",
    "        x_ignore_list.append(x_index)\n",
    "mid_point_x = mid_point_list[0::2]\n",
    "mid_point_y = mid_point_list[1::2]\n",
    "\n",
    "distance_array = np.array([])\n",
    "for mid_point_iter in range(int(mid_point_list.size /2) -1):\n",
    "    distance_array = np.append(distance_array, distance((mid_point_x[mid_point_iter], mid_point_y[mid_point_iter]),\n",
    "    (mid_point_x[mid_point_iter+1], mid_point_y[mid_point_iter+1])))\n",
    "final_width = []\n",
    "for mid_point_iter in range(len(mid_point_x)):\n",
    "    final_distance_at_1_midpoint = []\n",
    "    for angle in [30, 60, 90, 120, 150]:\n",
    "        #print((mid_point_x[mid_point_iter],mid_point_y[mid_point_iter]), angle)\n",
    "        if angle == 90:\n",
    "            line_angle_0 = find_endpoint(mid_point_x[mid_point_iter],all_pairs_position)['y'].keys()\n",
    "            final_distance_at_1_midpoint.append(max(line_angle_0) - min(line_angle_0))\n",
    "        else:\n",
    "            test_line = findLine((mid_point_x[mid_point_iter],mid_point_y[mid_point_iter]),angle)\n",
    "            if VERBOSE:\n",
    "                print(\"At midpoint {}, angle {} -> line: y={:.3f}x+{:.3f}\".format((mid_point_x[mid_point_iter],mid_point_y[mid_point_iter]),angle,test_line[0],test_line[1]))\n",
    "            vertical_list = all_pairs_position['VERTICAL']\n",
    "            horizontal_list = all_pairs_position['HORIZONTAL']\n",
    "            line_compare_list_x = {\"point\":[], \"position\":[]}\n",
    "            line_compare_list_y = {\"point\":[], \"position\":[]}\n",
    "        \n",
    "            for i in all_pairs_position['HORIZONTAL'].items():\n",
    "                for j in i[1]:\n",
    "                    compare_value = (i[0]-test_line[1])/test_line[0]\n",
    "                    if(in_range(compare_value,j)):\n",
    "                        line_compare_list_x['point'].append((compare_value, i[0]))\n",
    "                        line_compare_list_x['position'].append(i[0] >= mid_point_y[mid_point_iter])\n",
    "            for i in all_pairs_position['VERTICAL'].items():\n",
    "                for j in i[1]:\n",
    "                    compare_value = test_line[0] * i[0] + test_line[1]\n",
    "                    if(in_range(compare_value,j)):\n",
    "                        line_compare_list_y['point'].append((i[0],compare_value))\n",
    "                        line_compare_list_y['position'].append(compare_value >= mid_point_y[mid_point_iter])\n",
    "            line_compare_combined = {'point':line_compare_list_x['point'] + line_compare_list_y['point'],'position':line_compare_list_x['position'] + line_compare_list_y['position']}\n",
    "            line_compare_combined['distance'] = list(distance((mid_point_x[mid_point_iter],mid_point_y[mid_point_iter]),i) for i in line_compare_combined['point'])\n",
    "            #if mid_point_x[mid_point_iter] == 570.1:\n",
    "            if VERBOSE:\n",
    "                print(line_compare_combined)\n",
    "            above_list = []\n",
    "            below_list = []\n",
    "            j = 0\n",
    "            for i in line_compare_combined['position']:\n",
    "                if i:\n",
    "                    above_list.append(line_compare_combined['distance'][j])\n",
    "                else:\n",
    "                    below_list.append(line_compare_combined['distance'][j])\n",
    "                j = j + 1\n",
    "            final_distance_at_1_midpoint.append(min(above_list)\n",
    "            + min(below_list))\n",
    "    final_width.append(min(final_distance_at_1_midpoint))\n"
   ],
   "cell_type": "code",
   "metadata": {
    "tags": []
   },
   "execution_count": 97,
   "outputs": [
    {
     "output_type": "error",
     "ename": "ValueError",
     "evalue": "min() arg is an empty sequence",
     "traceback": [
      "\u001b[1;31m---------------------------------------------------------------------------\u001b[0m",
      "\u001b[1;31mValueError\u001b[0m                                Traceback (most recent call last)",
      "\u001b[1;32m<ipython-input-97-592dcd1ebd9a>\u001b[0m in \u001b[0;36m<module>\u001b[1;34m\u001b[0m\n\u001b[1;32m----> 1\u001b[1;33m \u001b[0mget_ipython\u001b[0m\u001b[1;33m(\u001b[0m\u001b[1;33m)\u001b[0m\u001b[1;33m.\u001b[0m\u001b[0mrun_cell_magic\u001b[0m\u001b[1;33m(\u001b[0m\u001b[1;34m'timeit'\u001b[0m\u001b[1;33m,\u001b[0m \u001b[1;34m'-n 20'\u001b[0m\u001b[1;33m,\u001b[0m \u001b[1;34m'x_coordinates = []\\ny_coordinates = []\\nlength_list = len(point_list)\\n\\n\\nfor i in range(0, length_list):\\n    x_coordinates.append(point_list[i][0])\\n    y_coordinates.append(point_list[i][1])\\nall_pairs_position = group_to_pairs(x_coordinates, y_coordinates, length_list)\\n\\n\\nx_list = list(round(i,1) for i in np.arange(0.1, floor(max(x_coordinates))+0.1, T_l))\\nif x_list[-1] != max(x_coordinates) - 0.1:\\n    x_list.append(max(x_coordinates) - 0.1)\\n\\n\\nnp_point_list = np.array(point_list)\\nmid_point_list = np.array([])\\nx_ignore_list = []\\nfor x_index in x_list:\\n    endpoint = find_endpoint(x_list[x_list.index(x_index)],all_pairs_position)\\n    if len(endpoint[\\'y\\']) == 2:\\n        if VERBOSE:\\n            print(\"Accept: {}\".format(x_index))\\n        mid_point_list = np.append(mid_point_list, (x_index,sum(endpoint[\\'y\\'].keys())/2))\\n        #print(\"{}\\\\n=====\".format(endpoint))\\n    else:\\n        if VERBOSE:\\n            print(\"Ignore: {}\".format(x_index))\\n        x_ignore_list.append(x_index)\\nmid_point_x = mid_point_list[0::2]\\nmid_point_y = mid_point_list[1::2]\\n\\ndistance_array = np.array([])\\nfor mid_point_iter in range(int(mid_point_list.size /2) -1):\\n    distance_array = np.append(distance_array, distance((mid_point_x[mid_point_iter], mid_point_y[mid_point_iter]),\\n    (mid_point_x[mid_point_iter+1], mid_point_y[mid_point_iter+1])))\\nfinal_width = []\\nfor mid_point_iter in range(len(mid_point_x)):\\n    final_distance_at_1_midpoint = []\\n    for angle in [30, 60, 90, 120, 150]:\\n        #print((mid_point_x[mid_point_iter],mid_point_y[mid_point_iter]), angle)\\n        if angle == 90:\\n            line_angle_0 = find_endpoint(mid_point_x[mid_point_iter],all_pairs_position)[\\'y\\'].keys()\\n            final_distance_at_1_midpoint.append(max(line_angle_0) - min(line_angle_0))\\n        else:\\n            test_line = findLine((mid_point_x[mid_point_iter],mid_point_y[mid_point_iter]),angle)\\n            if VERBOSE:\\n                print(\"At midpoint {}, angle {} -> line: y={:.3f}x+{:.3f}\".format((mid_point_x[mid_point_iter],mid_point_y[mid_point_iter]),angle,test_line[0],test_line[1]))\\n            vertical_list = all_pairs_position[\\'VERTICAL\\']\\n            horizontal_list = all_pairs_position[\\'HORIZONTAL\\']\\n            line_compare_list_x = {\"point\":[], \"position\":[]}\\n            line_compare_list_y = {\"point\":[], \"position\":[]}\\n        \\n            for i in all_pairs_position[\\'HORIZONTAL\\'].items():\\n                for j in i[1]:\\n                    compare_value = (i[0]-test_line[1])/test_line[0]\\n                    if(in_range(compare_value,j)):\\n                        line_compare_list_x[\\'point\\'].append((compare_value, i[0]))\\n                        line_compare_list_x[\\'position\\'].append(i[0] >= mid_point_y[mid_point_iter])\\n            for i in all_pairs_position[\\'VERTICAL\\'].items():\\n                for j in i[1]:\\n                    compare_value = test_line[0] * i[0] + test_line[1]\\n                    if(in_range(compare_value,j)):\\n                        line_compare_list_y[\\'point\\'].append((i[0],compare_value))\\n                        line_compare_list_y[\\'position\\'].append(compare_value >= mid_point_y[mid_point_iter])\\n            line_compare_combined = {\\'point\\':line_compare_list_x[\\'point\\'] + line_compare_list_y[\\'point\\'],\\'position\\':line_compare_list_x[\\'position\\'] + line_compare_list_y[\\'position\\']}\\n            line_compare_combined[\\'distance\\'] = list(distance((mid_point_x[mid_point_iter],mid_point_y[mid_point_iter]),i) for i in line_compare_combined[\\'point\\'])\\n            #if mid_point_x[mid_point_iter] == 570.1:\\n            if VERBOSE:\\n                print(line_compare_combined)\\n            above_list = []\\n            below_list = []\\n            j = 0\\n            for i in line_compare_combined[\\'position\\']:\\n                if i:\\n                    above_list.append(line_compare_combined[\\'distance\\'][j])\\n                else:\\n                    below_list.append(line_compare_combined[\\'distance\\'][j])\\n                j = j + 1\\n            final_distance_at_1_midpoint.append(min(above_list)\\n            + min(below_list))\\n    final_width.append(min(final_distance_at_1_midpoint))\\n'\u001b[0m\u001b[1;33m)\u001b[0m\u001b[1;33m\u001b[0m\u001b[1;33m\u001b[0m\u001b[0m\n\u001b[0m",
      "\u001b[1;32mJ:\\Anaconda3\\lib\\site-packages\\IPython\\core\\interactiveshell.py\u001b[0m in \u001b[0;36mrun_cell_magic\u001b[1;34m(self, magic_name, line, cell)\u001b[0m\n\u001b[0;32m   2369\u001b[0m             \u001b[1;32mwith\u001b[0m \u001b[0mself\u001b[0m\u001b[1;33m.\u001b[0m\u001b[0mbuiltin_trap\u001b[0m\u001b[1;33m:\u001b[0m\u001b[1;33m\u001b[0m\u001b[1;33m\u001b[0m\u001b[0m\n\u001b[0;32m   2370\u001b[0m                 \u001b[0margs\u001b[0m \u001b[1;33m=\u001b[0m \u001b[1;33m(\u001b[0m\u001b[0mmagic_arg_s\u001b[0m\u001b[1;33m,\u001b[0m \u001b[0mcell\u001b[0m\u001b[1;33m)\u001b[0m\u001b[1;33m\u001b[0m\u001b[1;33m\u001b[0m\u001b[0m\n\u001b[1;32m-> 2371\u001b[1;33m                 \u001b[0mresult\u001b[0m \u001b[1;33m=\u001b[0m \u001b[0mfn\u001b[0m\u001b[1;33m(\u001b[0m\u001b[1;33m*\u001b[0m\u001b[0margs\u001b[0m\u001b[1;33m,\u001b[0m \u001b[1;33m**\u001b[0m\u001b[0mkwargs\u001b[0m\u001b[1;33m)\u001b[0m\u001b[1;33m\u001b[0m\u001b[1;33m\u001b[0m\u001b[0m\n\u001b[0m\u001b[0;32m   2372\u001b[0m             \u001b[1;32mreturn\u001b[0m \u001b[0mresult\u001b[0m\u001b[1;33m\u001b[0m\u001b[1;33m\u001b[0m\u001b[0m\n\u001b[0;32m   2373\u001b[0m \u001b[1;33m\u001b[0m\u001b[0m\n",
      "\u001b[1;32m<decorator-gen-61>\u001b[0m in \u001b[0;36mtimeit\u001b[1;34m(self, line, cell, local_ns)\u001b[0m\n",
      "\u001b[1;32mJ:\\Anaconda3\\lib\\site-packages\\IPython\\core\\magic.py\u001b[0m in \u001b[0;36m<lambda>\u001b[1;34m(f, *a, **k)\u001b[0m\n\u001b[0;32m    185\u001b[0m     \u001b[1;31m# but it's overkill for just that one bit of state.\u001b[0m\u001b[1;33m\u001b[0m\u001b[1;33m\u001b[0m\u001b[1;33m\u001b[0m\u001b[0m\n\u001b[0;32m    186\u001b[0m     \u001b[1;32mdef\u001b[0m \u001b[0mmagic_deco\u001b[0m\u001b[1;33m(\u001b[0m\u001b[0marg\u001b[0m\u001b[1;33m)\u001b[0m\u001b[1;33m:\u001b[0m\u001b[1;33m\u001b[0m\u001b[1;33m\u001b[0m\u001b[0m\n\u001b[1;32m--> 187\u001b[1;33m         \u001b[0mcall\u001b[0m \u001b[1;33m=\u001b[0m \u001b[1;32mlambda\u001b[0m \u001b[0mf\u001b[0m\u001b[1;33m,\u001b[0m \u001b[1;33m*\u001b[0m\u001b[0ma\u001b[0m\u001b[1;33m,\u001b[0m \u001b[1;33m**\u001b[0m\u001b[0mk\u001b[0m\u001b[1;33m:\u001b[0m \u001b[0mf\u001b[0m\u001b[1;33m(\u001b[0m\u001b[1;33m*\u001b[0m\u001b[0ma\u001b[0m\u001b[1;33m,\u001b[0m \u001b[1;33m**\u001b[0m\u001b[0mk\u001b[0m\u001b[1;33m)\u001b[0m\u001b[1;33m\u001b[0m\u001b[1;33m\u001b[0m\u001b[0m\n\u001b[0m\u001b[0;32m    188\u001b[0m \u001b[1;33m\u001b[0m\u001b[0m\n\u001b[0;32m    189\u001b[0m         \u001b[1;32mif\u001b[0m \u001b[0mcallable\u001b[0m\u001b[1;33m(\u001b[0m\u001b[0marg\u001b[0m\u001b[1;33m)\u001b[0m\u001b[1;33m:\u001b[0m\u001b[1;33m\u001b[0m\u001b[1;33m\u001b[0m\u001b[0m\n",
      "\u001b[1;32mJ:\\Anaconda3\\lib\\site-packages\\IPython\\core\\magics\\execution.py\u001b[0m in \u001b[0;36mtimeit\u001b[1;34m(self, line, cell, local_ns)\u001b[0m\n\u001b[0;32m   1165\u001b[0m                     \u001b[1;32mbreak\u001b[0m\u001b[1;33m\u001b[0m\u001b[1;33m\u001b[0m\u001b[0m\n\u001b[0;32m   1166\u001b[0m \u001b[1;33m\u001b[0m\u001b[0m\n\u001b[1;32m-> 1167\u001b[1;33m         \u001b[0mall_runs\u001b[0m \u001b[1;33m=\u001b[0m \u001b[0mtimer\u001b[0m\u001b[1;33m.\u001b[0m\u001b[0mrepeat\u001b[0m\u001b[1;33m(\u001b[0m\u001b[0mrepeat\u001b[0m\u001b[1;33m,\u001b[0m \u001b[0mnumber\u001b[0m\u001b[1;33m)\u001b[0m\u001b[1;33m\u001b[0m\u001b[1;33m\u001b[0m\u001b[0m\n\u001b[0m\u001b[0;32m   1168\u001b[0m         \u001b[0mbest\u001b[0m \u001b[1;33m=\u001b[0m \u001b[0mmin\u001b[0m\u001b[1;33m(\u001b[0m\u001b[0mall_runs\u001b[0m\u001b[1;33m)\u001b[0m \u001b[1;33m/\u001b[0m \u001b[0mnumber\u001b[0m\u001b[1;33m\u001b[0m\u001b[1;33m\u001b[0m\u001b[0m\n\u001b[0;32m   1169\u001b[0m         \u001b[0mworst\u001b[0m \u001b[1;33m=\u001b[0m \u001b[0mmax\u001b[0m\u001b[1;33m(\u001b[0m\u001b[0mall_runs\u001b[0m\u001b[1;33m)\u001b[0m \u001b[1;33m/\u001b[0m \u001b[0mnumber\u001b[0m\u001b[1;33m\u001b[0m\u001b[1;33m\u001b[0m\u001b[0m\n",
      "\u001b[1;32mJ:\\Anaconda3\\lib\\timeit.py\u001b[0m in \u001b[0;36mrepeat\u001b[1;34m(self, repeat, number)\u001b[0m\n\u001b[0;32m    203\u001b[0m         \u001b[0mr\u001b[0m \u001b[1;33m=\u001b[0m \u001b[1;33m[\u001b[0m\u001b[1;33m]\u001b[0m\u001b[1;33m\u001b[0m\u001b[1;33m\u001b[0m\u001b[0m\n\u001b[0;32m    204\u001b[0m         \u001b[1;32mfor\u001b[0m \u001b[0mi\u001b[0m \u001b[1;32min\u001b[0m \u001b[0mrange\u001b[0m\u001b[1;33m(\u001b[0m\u001b[0mrepeat\u001b[0m\u001b[1;33m)\u001b[0m\u001b[1;33m:\u001b[0m\u001b[1;33m\u001b[0m\u001b[1;33m\u001b[0m\u001b[0m\n\u001b[1;32m--> 205\u001b[1;33m             \u001b[0mt\u001b[0m \u001b[1;33m=\u001b[0m \u001b[0mself\u001b[0m\u001b[1;33m.\u001b[0m\u001b[0mtimeit\u001b[0m\u001b[1;33m(\u001b[0m\u001b[0mnumber\u001b[0m\u001b[1;33m)\u001b[0m\u001b[1;33m\u001b[0m\u001b[1;33m\u001b[0m\u001b[0m\n\u001b[0m\u001b[0;32m    206\u001b[0m             \u001b[0mr\u001b[0m\u001b[1;33m.\u001b[0m\u001b[0mappend\u001b[0m\u001b[1;33m(\u001b[0m\u001b[0mt\u001b[0m\u001b[1;33m)\u001b[0m\u001b[1;33m\u001b[0m\u001b[1;33m\u001b[0m\u001b[0m\n\u001b[0;32m    207\u001b[0m         \u001b[1;32mreturn\u001b[0m \u001b[0mr\u001b[0m\u001b[1;33m\u001b[0m\u001b[1;33m\u001b[0m\u001b[0m\n",
      "\u001b[1;32mJ:\\Anaconda3\\lib\\site-packages\\IPython\\core\\magics\\execution.py\u001b[0m in \u001b[0;36mtimeit\u001b[1;34m(self, number)\u001b[0m\n\u001b[0;32m    167\u001b[0m         \u001b[0mgc\u001b[0m\u001b[1;33m.\u001b[0m\u001b[0mdisable\u001b[0m\u001b[1;33m(\u001b[0m\u001b[1;33m)\u001b[0m\u001b[1;33m\u001b[0m\u001b[1;33m\u001b[0m\u001b[0m\n\u001b[0;32m    168\u001b[0m         \u001b[1;32mtry\u001b[0m\u001b[1;33m:\u001b[0m\u001b[1;33m\u001b[0m\u001b[1;33m\u001b[0m\u001b[0m\n\u001b[1;32m--> 169\u001b[1;33m             \u001b[0mtiming\u001b[0m \u001b[1;33m=\u001b[0m \u001b[0mself\u001b[0m\u001b[1;33m.\u001b[0m\u001b[0minner\u001b[0m\u001b[1;33m(\u001b[0m\u001b[0mit\u001b[0m\u001b[1;33m,\u001b[0m \u001b[0mself\u001b[0m\u001b[1;33m.\u001b[0m\u001b[0mtimer\u001b[0m\u001b[1;33m)\u001b[0m\u001b[1;33m\u001b[0m\u001b[1;33m\u001b[0m\u001b[0m\n\u001b[0m\u001b[0;32m    170\u001b[0m         \u001b[1;32mfinally\u001b[0m\u001b[1;33m:\u001b[0m\u001b[1;33m\u001b[0m\u001b[1;33m\u001b[0m\u001b[0m\n\u001b[0;32m    171\u001b[0m             \u001b[1;32mif\u001b[0m \u001b[0mgcold\u001b[0m\u001b[1;33m:\u001b[0m\u001b[1;33m\u001b[0m\u001b[1;33m\u001b[0m\u001b[0m\n",
      "\u001b[1;32m<magic-timeit>\u001b[0m in \u001b[0;36minner\u001b[1;34m(_it, _timer)\u001b[0m\n",
      "\u001b[1;31mValueError\u001b[0m: min() arg is an empty sequence"
     ]
    }
   ]
  },
  {
   "cell_type": "code",
   "execution_count": 60,
   "metadata": {},
   "outputs": [
    {
     "output_type": "stream",
     "name": "stdout",
     "text": [
      "12.5 ms ± 708 µs per loop (mean ± std. dev. of 7 runs, 20 loops each)\n"
     ]
    }
   ],
   "source": [
    "%%timeit -n 20\n",
    "\n",
    "processed_points = convexOQHNew.findOrthogonalConvexHull(point_list)\n",
    "processed_points.append(processed_points[0])\n",
    "processed_points = points_supplement(processed_points)\n",
    "\n",
    "x_coordinates = []\n",
    "y_coordinates = []\n",
    "length_list = len(processed_points)\n",
    "\n",
    "\n",
    "for i in range(0, length_list):\n",
    "    x_coordinates.append(processed_points[i][0])\n",
    "    y_coordinates.append(processed_points[i][1])\n",
    "all_pairs_position = group_to_pairs(x_coordinates, y_coordinates, length_list)\n",
    "\n",
    "\n",
    "x_list = list(round(i,1) for i in np.arange(0.1, floor(max(x_coordinates))+0.1, T_l))\n",
    "if x_list[-1] != max(x_coordinates) - 0.1:\n",
    "    x_list.append(max(x_coordinates) - 0.1)\n",
    "\n",
    "\n",
    "np_point_list = np.array(processed_points)\n",
    "mid_point_list = np.array([])\n",
    "x_ignore_list = []\n",
    "for x_index in x_list:\n",
    "    endpoint = find_endpoint(x_list[x_list.index(x_index)],all_pairs_position)\n",
    "    if len(endpoint['y']) == 2:\n",
    "        if VERBOSE:\n",
    "            print(\"Accept: {}\".format(x_index))\n",
    "        mid_point_list = np.append(mid_point_list, (x_index,sum(endpoint['y'].keys())/2))\n",
    "        #print(\"{}\\n=====\".format(endpoint))\n",
    "    else:\n",
    "        if VERBOSE:\n",
    "            print(\"Ignore: {}\".format(x_index))\n",
    "        x_ignore_list.append(x_index)\n",
    "mid_point_x = mid_point_list[0::2]\n",
    "mid_point_y = mid_point_list[1::2]\n",
    "\n",
    "distance_array = np.array([])\n",
    "for mid_point_iter in range(int(mid_point_list.size /2) -1):\n",
    "    distance_array = np.append(distance_array, distance((mid_point_x[mid_point_iter], mid_point_y[mid_point_iter]),\n",
    "    (mid_point_x[mid_point_iter+1], mid_point_y[mid_point_iter+1])))\n",
    "final_width = []\n",
    "for mid_point_iter in range(len(mid_point_x)):\n",
    "    final_distance_at_1_midpoint = []\n",
    "    for angle in [30, 60, 90, 120, 150]:\n",
    "        #print((mid_point_x[mid_point_iter],mid_point_y[mid_point_iter]))\n",
    "        if angle == 90:\n",
    "            line_angle_0 = find_endpoint(mid_point_x[mid_point_iter],all_pairs_position)['y'].keys()\n",
    "            final_distance_at_1_midpoint.append(max(line_angle_0) - min(line_angle_0))\n",
    "        else:\n",
    "            test_line = findLine((mid_point_x[mid_point_iter],mid_point_y[mid_point_iter]),angle)\n",
    "            if VERBOSE:\n",
    "                print(\"At midpoint {}, angle {} -> line: y={:.3f}x+{:.3f}\".format((mid_point_x[mid_point_iter],mid_point_y[mid_point_iter]),angle,test_line[0],test_line[1]))\n",
    "            vertical_list = all_pairs_position['VERTICAL']\n",
    "            horizontal_list = all_pairs_position['HORIZONTAL']\n",
    "            line_compare_list_x = {\"point\":[], \"position\":[]}\n",
    "            line_compare_list_y = {\"point\":[], \"position\":[]}\n",
    "        \n",
    "            for i in all_pairs_position['HORIZONTAL'].items():\n",
    "                for j in i[1]:\n",
    "                    compare_value = (i[0]-test_line[1])/test_line[0]\n",
    "                    if(in_range(compare_value,j)):\n",
    "                        line_compare_list_x['point'].append((compare_value, i[0]))\n",
    "                        line_compare_list_x['position'].append(i[0] >= mid_point_y[mid_point_iter])\n",
    "            for i in all_pairs_position['VERTICAL'].items():\n",
    "                for j in i[1]:\n",
    "                    compare_value = test_line[0] * i[0] + test_line[1]\n",
    "                    if(in_range(compare_value,j)):\n",
    "                        line_compare_list_y['point'].append((i[0],compare_value))\n",
    "                        line_compare_list_y['position'].append(compare_value >= mid_point_y[mid_point_iter])\n",
    "            line_compare_combined = {'point':line_compare_list_x['point'] + line_compare_list_y['point'],'position':line_compare_list_x['position'] + line_compare_list_y['position']}\n",
    "            line_compare_combined['distance'] = list(distance((mid_point_x[mid_point_iter],mid_point_y[mid_point_iter]),i) for i in line_compare_combined['point'])\n",
    "            if VERBOSE:\n",
    "                print(line_compare_combined)\n",
    "            above_list = []\n",
    "            below_list = []\n",
    "            j = 0\n",
    "            for i in line_compare_combined['position']:\n",
    "                if i:\n",
    "                    above_list.append(line_compare_combined['distance'][j])\n",
    "                else:\n",
    "                    below_list.append(line_compare_combined['distance'][j])\n",
    "                j = j + 1\n",
    "            final_distance_at_1_midpoint.append(min(above_list) + min(below_list))\n",
    "    final_width.append(min(final_distance_at_1_midpoint))"
   ]
  },
  {
   "cell_type": "code",
   "execution_count": 61,
   "metadata": {
    "tags": []
   },
   "outputs": [],
   "source": [
    "# for i in x_ignore_list:\n",
    "#     endpoint = find_endpoint(x_list[x_list.index(i)],all_pairs_position)\n",
    "#     print(\"At x=\",i,\": lenx=\",len(endpoint['x']),\", leny=\", len(endpoint['y']))"
   ]
  },
  {
   "cell_type": "code",
   "execution_count": 62,
   "metadata": {},
   "outputs": [],
   "source": [
    "# print(mid_point_x)"
   ]
  },
  {
   "cell_type": "code",
   "execution_count": 63,
   "metadata": {},
   "outputs": [],
   "source": [
    "# #plt.fill_between(point_list[0], point_list[1],)\n",
    "# plt.fill_between(np_point_list[:,0],np_point_list[:,1],color='#66e3ff')\n",
    "# plt.plot(mid_point_x,mid_point_y, c='red')\n",
    "# plt.xticks(np.arange(0, max(mid_point_x+2), step=1))\n",
    "# #plt.xlim([10,15]) # zoom in\n",
    "# plt.show()\n"
   ]
  },
  {
   "cell_type": "code",
   "execution_count": 64,
   "metadata": {},
   "outputs": [],
   "source": [
    "# print(\"Figure size (x,y):\", (max(x_coordinates), max(y_coordinates)-min(y_coordinates)))\n",
    "# print(\"Step T_l:\",T_l)\n",
    "# print(\"Ignored:\", len(x_ignore_list))\n",
    "# print(\"Accepted:\", len(mid_point_x))\n",
    "# print(\"Final Length:\",sum(distance_array))\n",
    "# print(\"Final Width:\", sum(final_width)/len(mid_point_x))"
   ]
  }
 ]
}