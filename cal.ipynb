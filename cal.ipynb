{
 "metadata": {
  "language_info": {
   "codemirror_mode": {
    "name": "ipython",
    "version": 3
   },
   "file_extension": ".py",
   "mimetype": "text/x-python",
   "name": "python",
   "nbconvert_exporter": "python",
   "pygments_lexer": "ipython3",
   "version": "3.8.5-final"
  },
  "orig_nbformat": 2,
  "kernelspec": {
   "name": "python3",
   "display_name": "Python 3",
   "language": "python"
  }
 },
 "nbformat": 4,
 "nbformat_minor": 2,
 "cells": [
  {
   "cell_type": "code",
   "execution_count": 477,
   "metadata": {},
   "outputs": [],
   "source": [
    "import csv\n",
    "from math import *\n",
    "import numpy as np\n",
    "from matplotlib import pyplot as plt\n",
    "from input_generation import *\n",
    "import time"
   ]
  },
  {
   "cell_type": "code",
   "execution_count": 478,
   "metadata": {},
   "outputs": [],
   "source": [
    "VERBOSE = False"
   ]
  },
  {
   "cell_type": "code",
   "execution_count": 479,
   "metadata": {},
   "outputs": [],
   "source": [
    "IDENTICAL = -1\n",
    "VERTICAL = 0\n",
    "HORIZONTAL = 1\n",
    "OBLIQUE = 2\n",
    "T_l = 30 #tri nguong~ dung de chia khoang (T_l trong crack report)\n",
    "TEST_TIMES = 50\n",
    "# CSV_NAME = \"./Horizontal/10.csv\"\n",
    "CSV_NAME = \"./Horizontal/19.csv\"\n",
    "LOG =  open(\"log.txt\",\"a+\")"
   ]
  },
  {
   "cell_type": "code",
   "execution_count": 480,
   "metadata": {},
   "outputs": [],
   "source": [
    "def parse_csv(FILE):\n",
    "    point_list = []\n",
    "    with open(FILE) as csv_file:\n",
    "        csv_reader = csv.reader(csv_file, delimiter=',')\n",
    "        length = -1\n",
    "        for row in csv_reader:\n",
    "            if length == -1:\n",
    "                length += 1\n",
    "            else:\n",
    "                point_list.append((float(row[0]), float(row[1])))\n",
    "                length += 1\n",
    "    return point_list"
   ]
  },
  {
   "cell_type": "code",
   "execution_count": 481,
   "metadata": {},
   "outputs": [],
   "source": [
    " def in_range(value, range):\n",
    "    if range[0] <= value and value <= range[1]:\n",
    "        return True\n",
    "    if range[1] <= value and value <= range[0]:\n",
    "        return True\n",
    "    return False"
   ]
  },
  {
   "cell_type": "code",
   "execution_count": 482,
   "metadata": {},
   "outputs": [],
   "source": [
    "def group_to_pairs(x_coordinates, y_coordinates, length):\n",
    "        def relative_position(A, B):\n",
    "            if A[0] != B[0] and A[1] != B[1]:\n",
    "                return OBLIQUE\n",
    "            elif A[0] == B[0] and A[1] != B[1]:\n",
    "                return VERTICAL\n",
    "            elif A[0] != B[0] and A[1] == B[1]:\n",
    "                return HORIZONTAL\n",
    "            else:\n",
    "                return IDENTICAL\n",
    "        all_pairs_position = {\n",
    "            \"VERTICAL\": {},\n",
    "            \"HORIZONTAL\": {}\n",
    "        }\n",
    "        for i in range(0, length - 1):\n",
    "            position = relative_position(\n",
    "                (x_coordinates[i], y_coordinates[i]), (x_coordinates[i+1], y_coordinates[i+1]))\n",
    "            if position == IDENTICAL or position == OBLIQUE:\n",
    "                continue\n",
    "            if position == VERTICAL:\n",
    "                previous_value = all_pairs_position.get('VERTICAL').get(x_coordinates[i])\n",
    "                update_value = [(y_coordinates[i], y_coordinates[i+1])]\n",
    "                if previous_value != None:\n",
    "                    update_value = previous_value + update_value\n",
    "                all_pairs_position['VERTICAL'][x_coordinates[i]] = update_value\n",
    "            if position == HORIZONTAL:\n",
    "                previous_value = all_pairs_position.get('HORIZONTAL').get(y_coordinates[i])\n",
    "                update_value = [(x_coordinates[i], x_coordinates[i+1])]\n",
    "                if previous_value != None:\n",
    "                    update_value = previous_value + update_value\n",
    "                all_pairs_position['HORIZONTAL'][y_coordinates[i]] = update_value\n",
    "        return all_pairs_position"
   ]
  },
  {
   "cell_type": "code",
   "execution_count": 483,
   "metadata": {},
   "outputs": [],
   "source": [
    "#Grouping points\n",
    "point_list = parse_csv(CSV_NAME)\n",
    "#print(point_list)\n",
    "# Testcase\n",
    "# print(isCollide(point_list, (12.4, 13), (12.4, 13.7)))\n",
    "# print('------------------')\n",
    "# print(isCollide(point_list, (17, 3.5), (18, 3.5)))\n",
    "# print('------------------')"
   ]
  },
  {
   "source": [
    "def find_endpoint(x_value, all_pairs_position):\n",
    "    endpoint = {'y':{},'x':{}}\n",
    "    for point, ran in all_pairs_position['HORIZONTAL'].items():\n",
    "        for sub_ran in ran:\n",
    "            if in_range(x_value, sub_ran):\n",
    "                endpoint['y'][point] = sub_ran\n",
    "    for point, ran in all_pairs_position['VERTICAL'].items():\n",
    "        if x_value == point:\n",
    "            endpoint['x'][point] = ran\n",
    "    return endpoint"
   ],
   "cell_type": "code",
   "metadata": {},
   "execution_count": 484,
   "outputs": []
  },
  {
   "cell_type": "code",
   "execution_count": 485,
   "metadata": {},
   "outputs": [],
   "source": [
    "def distance(A, B):\n",
    "    return sqrt((A[0] - B[0])**2 + (A[1] - B[1])**2)"
   ]
  },
  {
   "cell_type": "code",
   "execution_count": 486,
   "metadata": {},
   "outputs": [],
   "source": [
    "def findLine(Origin, Angle):\n",
    "    if Angle == 90:\n",
    "        print(\"Invalid. Angle is 90!\")\n",
    "        return ('None', 'None')\n",
    "    #find slope\n",
    "    a = tan(radians(Angle))\n",
    "    # Line y = a*x + b\n",
    "    b = (Origin[1] - a*Origin[0])\n",
    "    return (a,b)"
   ]
  },
  {
   "cell_type": "code",
   "execution_count": 487,
   "metadata": {},
   "outputs": [
    {
     "output_type": "execute_result",
     "data": {
      "text/plain": [
       "23"
      ]
     },
     "metadata": {},
     "execution_count": 487
    }
   ],
   "source": [
    "LOG.write(\"Test: \" + CSV_NAME + \"\\n\")\n",
    "LOG.write(\"Number of loops run:{}\\n\".format(TEST_TIMES))"
   ]
  },
  {
   "source": [
    "start = time.time()\n",
    "for test_times in range(TEST_TIMES):\n",
    "    x_coordinates = []\n",
    "    y_coordinates = []\n",
    "    length_list = len(point_list)\n",
    "\n",
    "\n",
    "    for i in range(0, length_list):\n",
    "        x_coordinates.append(point_list[i][0])\n",
    "        y_coordinates.append(point_list[i][1])\n",
    "    all_pairs_position = group_to_pairs(x_coordinates, y_coordinates, length_list)\n",
    "\n",
    "\n",
    "    x_list = list(round(i,1) for i in np.arange(0.1, floor(max(x_coordinates))+0.1, T_l))\n",
    "    if x_list[-1] != max(x_coordinates) - 0.1:\n",
    "        x_list.append(max(x_coordinates) - 0.1)\n",
    "\n",
    "\n",
    "    np_point_list = np.array(point_list)\n",
    "    mid_point_list = np.array([])\n",
    "    x_ignore_list = []\n",
    "    for x_index in x_list:\n",
    "        endpoint = find_endpoint(x_list[x_list.index(x_index)],all_pairs_position)\n",
    "        if len(endpoint['y']) == 2:\n",
    "            if VERBOSE:\n",
    "                print(\"Accept: {}\".format(x_index))\n",
    "            mid_point_list = np.append(mid_point_list, (x_index,sum(endpoint['y'].keys())/2))\n",
    "            #print(\"{}\\n=====\".format(endpoint))\n",
    "        else:\n",
    "            if VERBOSE:\n",
    "                print(\"Ignore: {}\".format(x_index))\n",
    "            x_ignore_list.append(x_index)\n",
    "    mid_point_x = mid_point_list[0::2]\n",
    "    mid_point_y = mid_point_list[1::2]\n",
    "\n",
    "    distance_array = np.array([])\n",
    "    for mid_point_iter in range(int(mid_point_list.size /2) -1):\n",
    "        distance_array = np.append(distance_array, distance((mid_point_x[mid_point_iter], mid_point_y[mid_point_iter]),\n",
    "        (mid_point_x[mid_point_iter+1], mid_point_y[mid_point_iter+1])))\n",
    "    final_width = []\n",
    "    for mid_point_iter in range(len(mid_point_x)):\n",
    "        final_distance_at_1_midpoint = []\n",
    "        for angle in [30, 60, 90, 120, 150]:\n",
    "            #print((mid_point_x[mid_point_iter],mid_point_y[mid_point_iter]), angle)\n",
    "            if angle == 90:\n",
    "                line_angle_0 = find_endpoint(mid_point_x[mid_point_iter],all_pairs_position)['y'].keys()\n",
    "                final_distance_at_1_midpoint.append(max(line_angle_0) - min(line_angle_0))\n",
    "            else:\n",
    "                test_line = findLine((mid_point_x[mid_point_iter],mid_point_y[mid_point_iter]),angle)\n",
    "                if VERBOSE:\n",
    "                    print(\"At midpoint {}, angle {} -> line: y={:.3f}x+{:.3f}\".format((mid_point_x[mid_point_iter],mid_point_y[mid_point_iter]),angle,test_line[0],test_line[1]))\n",
    "                vertical_list = all_pairs_position['VERTICAL']\n",
    "                horizontal_list = all_pairs_position['HORIZONTAL']\n",
    "                line_compare_list_x = {\"point\":[], \"position\":[]}\n",
    "                line_compare_list_y = {\"point\":[], \"position\":[]}\n",
    "            \n",
    "                for i in all_pairs_position['HORIZONTAL'].items():\n",
    "                    for j in i[1]:\n",
    "                        compare_value = (i[0]-test_line[1])/test_line[0]\n",
    "                        if(in_range(compare_value,j)):\n",
    "                            line_compare_list_x['point'].append((compare_value, i[0]))\n",
    "                            line_compare_list_x['position'].append(i[0] >= mid_point_y[mid_point_iter])\n",
    "                for i in all_pairs_position['VERTICAL'].items():\n",
    "                    for j in i[1]:\n",
    "                        compare_value = test_line[0] * i[0] + test_line[1]\n",
    "                        if(in_range(compare_value,j)):\n",
    "                            line_compare_list_y['point'].append((i[0],compare_value))\n",
    "                            line_compare_list_y['position'].append(compare_value >= mid_point_y[mid_point_iter])\n",
    "                line_compare_combined = {'point':line_compare_list_x['point'] + line_compare_list_y['point'],'position':line_compare_list_x['position'] + line_compare_list_y['position']}\n",
    "                line_compare_combined['distance'] = list(distance((mid_point_x[mid_point_iter],mid_point_y[mid_point_iter]),i) for i in line_compare_combined['point'])\n",
    "                #if mid_point_x[mid_point_iter] == 570.1:\n",
    "                if VERBOSE:\n",
    "                    print(line_compare_combined)\n",
    "                above_list = []\n",
    "                below_list = []\n",
    "                j = 0\n",
    "                for i in line_compare_combined['position']:\n",
    "                    if i:\n",
    "                        above_list.append(line_compare_combined['distance'][j])\n",
    "                    else:\n",
    "                        below_list.append(line_compare_combined['distance'][j])\n",
    "                    j = j + 1\n",
    "                final_distance_at_1_midpoint.append(min(above_list)\n",
    "                + min(below_list))\n",
    "        final_width.append(min(final_distance_at_1_midpoint))\n",
    "elapsed_time = time.time() - start\n",
    "LOG.write(\"Time with NO Convex Hull:{}[ms]\\n\".format(elapsed_time/TEST_TIMES * 1000))\n",
    "LOG.write(\"Figure size (x,y):{}\\n\".format((max(x_coordinates), max(y_coordinates)-min(y_coordinates))))\n",
    "LOG.write(\"Step T_l:{}\\n\".format(T_l))\n",
    "LOG.write(\"Ignored:{}\\n\".format(len(x_ignore_list)))\n",
    "LOG.write(\"Accepted:{}\\n\".format(len(mid_point_x)))\n",
    "LOG.write(\"Length Measured:{}\\n\".format(sum(distance_array)))\n",
    "LOG.write(\"Width Measured:{}\\n\".format(sum(final_width)/len(mid_point_x)))"
   ],
   "cell_type": "code",
   "metadata": {
    "tags": []
   },
   "execution_count": 469,
   "outputs": [
    {
     "output_type": "execute_result",
     "data": {
      "text/plain": [
       "34"
      ]
     },
     "metadata": {},
     "execution_count": 469
    }
   ]
  },
  {
   "cell_type": "code",
   "execution_count": 470,
   "metadata": {},
   "outputs": [],
   "source": [
    "final_width_previous = sum(final_width)/len(mid_point_x)\n",
    "final_length_previous = sum(distance_array)"
   ]
  },
  {
   "cell_type": "code",
   "execution_count": 471,
   "metadata": {},
   "outputs": [
    {
     "output_type": "execute_result",
     "data": {
      "text/plain": [
       "34"
      ]
     },
     "metadata": {},
     "execution_count": 471
    }
   ],
   "source": [
    "start = time.time()\n",
    "for test_times in range(TEST_TIMES):\n",
    "\n",
    "    processed_points = convexOQHNew.findOrthogonalConvexHull(point_list)\n",
    "    processed_points.append(processed_points[0])\n",
    "    processed_points = points_supplement(processed_points)\n",
    "\n",
    "    x_coordinates = []\n",
    "    y_coordinates = []\n",
    "    length_list = len(processed_points)\n",
    "\n",
    "\n",
    "    for i in range(0, length_list):\n",
    "        x_coordinates.append(processed_points[i][0])\n",
    "        y_coordinates.append(processed_points[i][1])\n",
    "    all_pairs_position = group_to_pairs(x_coordinates, y_coordinates, length_list)\n",
    "\n",
    "\n",
    "    x_list = list(round(i,1) for i in np.arange(0.1, floor(max(x_coordinates))+0.1, T_l))\n",
    "    if x_list[-1] != max(x_coordinates) - 0.1:\n",
    "        x_list.append(max(x_coordinates) - 0.1)\n",
    "\n",
    "\n",
    "    np_point_list = np.array(processed_points)\n",
    "    mid_point_list = np.array([])\n",
    "    x_ignore_list = []\n",
    "    for x_index in x_list:\n",
    "        endpoint = find_endpoint(x_list[x_list.index(x_index)],all_pairs_position)\n",
    "        if len(endpoint['y']) == 2:\n",
    "            if VERBOSE:\n",
    "                print(\"Accept: {}\".format(x_index))\n",
    "            mid_point_list = np.append(mid_point_list, (x_index,sum(endpoint['y'].keys())/2))\n",
    "            #print(\"{}\\n=====\".format(endpoint))\n",
    "        else:\n",
    "            if VERBOSE:\n",
    "                print(\"Ignore: {}\".format(x_index))\n",
    "            x_ignore_list.append(x_index)\n",
    "    mid_point_x = mid_point_list[0::2]\n",
    "    mid_point_y = mid_point_list[1::2]\n",
    "\n",
    "    distance_array = np.array([])\n",
    "    for mid_point_iter in range(int(mid_point_list.size /2) -1):\n",
    "        distance_array = np.append(distance_array, distance((mid_point_x[mid_point_iter], mid_point_y[mid_point_iter]),\n",
    "        (mid_point_x[mid_point_iter+1], mid_point_y[mid_point_iter+1])))\n",
    "    final_width = []\n",
    "    for mid_point_iter in range(len(mid_point_x)):\n",
    "        final_distance_at_1_midpoint = []\n",
    "        for angle in [30, 60, 90, 120, 150]:\n",
    "            #print((mid_point_x[mid_point_iter],mid_point_y[mid_point_iter]))\n",
    "            if angle == 90:\n",
    "                line_angle_0 = find_endpoint(mid_point_x[mid_point_iter],all_pairs_position)['y'].keys()\n",
    "                final_distance_at_1_midpoint.append(max(line_angle_0) - min(line_angle_0))\n",
    "            else:\n",
    "                test_line = findLine((mid_point_x[mid_point_iter],mid_point_y[mid_point_iter]),angle)\n",
    "                if VERBOSE:\n",
    "                    print(\"At midpoint {}, angle {} -> line: y={:.3f}x+{:.3f}\".format((mid_point_x[mid_point_iter],mid_point_y[mid_point_iter]),angle,test_line[0],test_line[1]))\n",
    "                vertical_list = all_pairs_position['VERTICAL']\n",
    "                horizontal_list = all_pairs_position['HORIZONTAL']\n",
    "                line_compare_list_x = {\"point\":[], \"position\":[]}\n",
    "                line_compare_list_y = {\"point\":[], \"position\":[]}\n",
    "            \n",
    "                for i in all_pairs_position['HORIZONTAL'].items():\n",
    "                    for j in i[1]:\n",
    "                        compare_value = (i[0]-test_line[1])/test_line[0]\n",
    "                        if(in_range(compare_value,j)):\n",
    "                            line_compare_list_x['point'].append((compare_value, i[0]))\n",
    "                            line_compare_list_x['position'].append(i[0] >= mid_point_y[mid_point_iter])\n",
    "                for i in all_pairs_position['VERTICAL'].items():\n",
    "                    for j in i[1]:\n",
    "                        compare_value = test_line[0] * i[0] + test_line[1]\n",
    "                        if(in_range(compare_value,j)):\n",
    "                            line_compare_list_y['point'].append((i[0],compare_value))\n",
    "                            line_compare_list_y['position'].append(compare_value >= mid_point_y[mid_point_iter])\n",
    "                line_compare_combined = {'point':line_compare_list_x['point'] + line_compare_list_y['point'],'position':line_compare_list_x['position'] + line_compare_list_y['position']}\n",
    "                line_compare_combined['distance'] = list(distance((mid_point_x[mid_point_iter],mid_point_y[mid_point_iter]),i) for i in line_compare_combined['point'])\n",
    "                if VERBOSE:\n",
    "                    print(line_compare_combined)\n",
    "                above_list = []\n",
    "                below_list = []\n",
    "                j = 0\n",
    "                for i in line_compare_combined['position']:\n",
    "                    if i:\n",
    "                        above_list.append(line_compare_combined['distance'][j])\n",
    "                    else:\n",
    "                        below_list.append(line_compare_combined['distance'][j])\n",
    "                    j = j + 1\n",
    "                final_distance_at_1_midpoint.append(min(above_list) + min(below_list))\n",
    "        final_width.append(min(final_distance_at_1_midpoint))\n",
    "elapsed_time = time.time() - start\n",
    "LOG.write(\"-----------------\\n\")\n",
    "LOG.write(\"Time with Convex Hull : {}[ms]\\n\".format(elapsed_time/TEST_TIMES * 1000))\n",
    "LOG.write(\"Time with NO Convex Hull:{}[ms]\\n\".format(elapsed_time/TEST_TIMES * 1000))\n",
    "LOG.write(\"Figure size (x,y):{}\\n\".format((max(x_coordinates), max(y_coordinates)-min(y_coordinates))))\n",
    "LOG.write(\"Step T_l:{}\\n\".format(T_l))\n",
    "LOG.write(\"Ignored:{}\\n\".format(len(x_ignore_list)))\n",
    "LOG.write(\"Accepted:{}\\n\".format(len(mid_point_x)))\n",
    "LOG.write(\"Length Measured:{}\\n\".format(sum(distance_array)))\n",
    "LOG.write(\"Width Measured:{}\\n\".format(sum(final_width)/len(mid_point_x)))"
   ]
  },
  {
   "cell_type": "code",
   "execution_count": 472,
   "metadata": {
    "tags": []
   },
   "outputs": [],
   "source": [
    "# for i in x_ignore_list:\n",
    "#     endpoint = find_endpoint(x_list[x_list.index(i)],all_pairs_position)\n",
    "#     print(\"At x=\",i,\": lenx=\",len(endpoint['x']),\", leny=\", len(endpoint['y']))"
   ]
  },
  {
   "cell_type": "code",
   "execution_count": 473,
   "metadata": {},
   "outputs": [],
   "source": [
    "# print(mid_point_x)"
   ]
  },
  {
   "cell_type": "code",
   "execution_count": 474,
   "metadata": {},
   "outputs": [],
   "source": [
    "# #plt.fill_between(point_list[0], point_list[1],)\n",
    "# plt.fill_between(np_point_list[:,0],np_point_list[:,1],color='#66e3ff')\n",
    "# plt.plot(mid_point_x,mid_point_y, c='red')\n",
    "# plt.xticks(np.arange(0, max(mid_point_x+2), step=1))\n",
    "# #plt.xlim([10,15]) # zoom in\n",
    "# plt.show()\n"
   ]
  },
  {
   "cell_type": "code",
   "execution_count": 475,
   "metadata": {},
   "outputs": [],
   "source": [
    "# print(\"Figure size (x,y):\", (max(x_coordinates), max(y_coordinates)-min(y_coordinates)))\n",
    "# print(\"Step T_l:\",T_l)\n",
    "# print(\"Ignored:\", len(x_ignore_list))\n",
    "# print(\"Accepted:\", len(mid_point_x))\n",
    "# print(\"Final Length:\",sum(distance_array))\n",
    "# print(\"Final Width:\", sum(final_width)/len(mid_point_x))"
   ]
  },
  {
   "cell_type": "code",
   "execution_count": 476,
   "metadata": {},
   "outputs": [],
   "source": [
    "final_width_new = sum(final_width)/len(mid_point_x)\n",
    "final_length_new = sum(distance_array)\n",
    "LOG.write(\"->Error of Length:{:.1f}%\\n\".format( ((final_length_new-final_length_previous)/final_length_previous) * 100))\n",
    "LOG.write(\"->Error of Width:{:.1f}%\\n\".format( ((final_width_new-final_width_previous)/final_width_previous)* 100))\n",
    "LOG.write(\"\\n +++++++++++++++++++++++++++++++\\n\")\n",
    "LOG.close()"
   ]
  }
 ]
}